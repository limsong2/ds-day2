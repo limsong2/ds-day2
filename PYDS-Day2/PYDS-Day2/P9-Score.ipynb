{
 "cells": [
  {
   "cell_type": "markdown",
   "metadata": {},
   "source": [
    "## Classification report\n",
    "\n",
    "A Classification report is used to measure the __quality of predictions__ from a classification algorithm. <br>\n",
    "More specifically, True Positives, False Positives, True negatives and False Negatives are used to predict the metrics of a classification report.<br><br> \n",
    "\n",
    "- True Negative (TN): when a case was negative and predicted negative\n",
    "- True Positive (TP): when a case was positive and predicted positive\n",
    "- False Negative (FN): when a case was positive but predicted negative\n",
    "- False Positive (FP): when a case was negative but predicted positive\n",
    "\n",
    "\n",
    "Classification report of Iris dataset using the SVM algorithm:<br>\n",
    "\n",
    "\n"
   ]
  },
  {
   "cell_type": "code",
   "execution_count": 1,
   "metadata": {},
   "outputs": [
    {
     "data": {
      "text/plain": [
       "(150, 4)"
      ]
     },
     "execution_count": 1,
     "metadata": {},
     "output_type": "execute_result"
    },
    {
     "data": {
      "text/plain": [
       "SVC(C=1.0, cache_size=200, class_weight=None, coef0=0.0,\n",
       "    decision_function_shape='ovr', degree=2, gamma='auto', kernel='rbf',\n",
       "    max_iter=-1, probability=False, random_state=None, shrinking=True,\n",
       "    tol=0.001, verbose=False)"
      ]
     },
     "execution_count": 1,
     "metadata": {},
     "output_type": "execute_result"
    },
    {
     "name": "stdout",
     "output_type": "stream",
     "text": [
      "                 precision    recall  f1-score   support\n",
      "\n",
      "    Iris-setosa       1.00      1.00      1.00        16\n",
      "Iris-versicolor       1.00      0.94      0.97        18\n",
      " Iris-virginica       0.92      1.00      0.96        11\n",
      "\n",
      "       accuracy                           0.98        45\n",
      "      macro avg       0.97      0.98      0.98        45\n",
      "   weighted avg       0.98      0.98      0.98        45\n",
      "\n"
     ]
    }
   ],
   "source": [
    "import pandas as pd\n",
    "from sklearn.svm import SVC\n",
    "from sklearn.metrics import classification_report, confusion_matrix\n",
    "\n",
    "colnames = ['sepal-length', 'sepal-width', 'petal-length', 'petal-width', 'Class']\n",
    "dataset = pd.read_csv('datasets/iris.data', names=colnames)\n",
    "X = dataset.drop('Class', axis=1)\n",
    "y = dataset['Class']\n",
    "X.shape\n",
    "from sklearn.model_selection import train_test_split\n",
    "X_train, X_test, y_train, y_test = train_test_split(X, y, test_size=0.3, random_state=0)\n",
    "svclassifier = SVC(kernel='rbf', degree=2, gamma='auto')\n",
    "svclassifier.fit(X_train, y_train)\n",
    "y_pred = svclassifier.predict(X_test)\n",
    "print(classification_report(y_test, y_pred, target_names=y.unique()))"
   ]
  },
  {
   "cell_type": "markdown",
   "metadata": {},
   "source": [
    "The report shows the main classification metrics __precision__, __recall__ and __f1-score__ on a per-class basis. \n",
    "\n",
    "### Precision (what percent of your predictions were correct?)\n",
    "\n",
    "__Precision__ is the ability of a classifier not to label an instance positive that is actually negative (i.e. the accuracy of positive predictions).<br>\n",
    "For each class it is defined as the ratio of true positives to the sum of true and false positives.\n",
    "<br>\n",
    "Precision = TP/(TP + FP)"
   ]
  },
  {
   "cell_type": "code",
   "execution_count": 3,
   "metadata": {},
   "outputs": [
    {
     "name": "stdout",
     "output_type": "stream",
     "text": [
      "Precision score: 0.9777777777777777\n"
     ]
    }
   ],
   "source": [
    "from sklearn.metrics import precision_score\n",
    "print(f\"Precision score: {precision_score(y_test, y_pred, average='micro')}\")"
   ]
  },
  {
   "cell_type": "markdown",
   "metadata": {},
   "source": [
    "###  Recall (What percent of the positive cases did you catch?) \n",
    "\n",
    "__Recall__ is the ability of a classifier to find all positive instances (i.e. the fraction of positives that were correctly identified).<br> \n",
    "For each class it is defined as the ratio of true positives to the sum of true positives and false negatives.<br>\n",
    "\n",
    "Recall = TP/(TP+FN)"
   ]
  },
  {
   "cell_type": "code",
   "execution_count": 4,
   "metadata": {},
   "outputs": [
    {
     "name": "stdout",
     "output_type": "stream",
     "text": [
      "Recall score: 0.9777777777777777\n"
     ]
    }
   ],
   "source": [
    "from sklearn.metrics import recall_score\n",
    "print(f\"Recall score: {recall_score(y_test,y_pred,average='micro')}\")"
   ]
  },
  {
   "cell_type": "markdown",
   "metadata": {},
   "source": [
    "### F1 score (What percent of positive predictions were correct?)\n",
    " \n",
    "The __F1 score__ is a weighted harmonic mean of precision and recall such that the best score is 1.0 and the worst is 0.0. <br>\n",
    "Generally speaking, F1 scores are lower than accuracy measures as they embed precision and recall into their computation. <br>\n",
    "As a rule of thumb, the weighted average of F1 should be used to compare classifier models, not global accuracy.\n",
    "<br>\n",
    "\n",
    "F1 Score = 2*(Recall * Precision) / (Recall + Precision)"
   ]
  },
  {
   "cell_type": "code",
   "execution_count": 5,
   "metadata": {},
   "outputs": [
    {
     "name": "stdout",
     "output_type": "stream",
     "text": [
      "F1 Score: 0.9777777777777777\n"
     ]
    }
   ],
   "source": [
    "from sklearn.metrics import f1_score\n",
    "print(f\"F1 Score: {f1_score(y_test,y_pred,average='micro')}\")"
   ]
  },
  {
   "cell_type": "markdown",
   "metadata": {},
   "source": [
    "The other reported information include: <br>\n",
    "- __macro average__ (averaging the unweighted mean per label), \n",
    "- __weighted average__ (averaging the support-weighted mean per label)\n",
    "- __accuracy__ (the fraction of predictions our model got right: (tp+tn)/(tp+tn+fp+fn))"
   ]
  },
  {
   "cell_type": "markdown",
   "metadata": {},
   "source": [
    "## Confusion Matrix\n",
    "\n",
    "A __confusion matrix__ visualises classification accuracy and errors made by a machine learning model. <br>\n",
    "They are especially useful where there are multiple classification categories. <br>\n",
    "Each row of the matrix represents the instances in a predicted class while each column represents the instances in an actual class (or vice versa). \n",
    "\n",
    "The Scikit-Learn function __confusion_matrix()__ returns a confusion matrix and it is possible to use a plotting library to plot it if we want to."
   ]
  },
  {
   "cell_type": "code",
   "execution_count": 71,
   "metadata": {},
   "outputs": [
    {
     "name": "stdout",
     "output_type": "stream",
     "text": [
      "[[16  0  0]\n",
      " [ 0 17  1]\n",
      " [ 0  0 11]]\n"
     ]
    },
    {
     "data": {
      "text/plain": [
       "[Text(0, 0.5, '0'), Text(0, 1.5, '1'), Text(0, 2.5, '2')]"
      ]
     },
     "execution_count": 71,
     "metadata": {},
     "output_type": "execute_result"
    },
    {
     "data": {
      "text/plain": [
       "[Text(0.5, 0, '0'), Text(1.5, 0, '1'), Text(2.5, 0, '2')]"
      ]
     },
     "execution_count": 71,
     "metadata": {},
     "output_type": "execute_result"
    },
    {
     "data": {
      "text/plain": [
       "(3.0, 0.0)"
      ]
     },
     "execution_count": 71,
     "metadata": {},
     "output_type": "execute_result"
    },
    {
     "data": {
      "text/plain": [
       "Text(33.0, 0.5, 'True label')"
      ]
     },
     "execution_count": 71,
     "metadata": {},
     "output_type": "execute_result"
    },
    {
     "data": {
      "text/plain": [
       "Text(0.5, 15.0, 'Predicted label')"
      ]
     },
     "execution_count": 71,
     "metadata": {},
     "output_type": "execute_result"
    },
    {
     "data": {
      "text/plain": [
       "Text(0.5, 1, 'Confusion Matrix')"
      ]
     },
     "execution_count": 71,
     "metadata": {},
     "output_type": "execute_result"
    },
    {
     "data": {
      "image/png": "[encoded data removed]",
      "text/plain": [
       "<Figure size 432x288 with 2 Axes>"
      ]
     },
     "metadata": {
      "needs_background": "light"
     },
     "output_type": "display_data"
    }
   ],
   "source": [
    "import matplotlib.pyplot as plt\n",
    "import seaborn as sns\n",
    "\n",
    "cnf_matrix = confusion_matrix(y_test, y_pred)\n",
    "print(cnf_matrix)\n",
    "hmap=sns.heatmap(cnf_matrix, annot=True, fmt='d')\n",
    "hmap.yaxis.set_ticklabels(hmap.yaxis.get_ticklabels(), rotation=0, ha='right')\n",
    "hmap.xaxis.set_ticklabels(hmap.xaxis.get_ticklabels(), rotation=45, ha='right')\n",
    "bottom, top = hmap.get_ylim() # to correct a bug with matplotlib 3.1.1\n",
    "hmap.set_ylim(bottom + 0.5, top - 0.5) # to correct a bug with matplotlib 3.1.1\n",
    "plt.ylabel('True label')\n",
    "plt.xlabel('Predicted label')\n",
    "plt.title('Confusion Matrix')"
   ]
  },
  {
   "cell_type": "markdown",
   "metadata": {},
   "source": [
    "## Regression Error Metrics\n",
    "\n",
    "The quality of a __regression model__ is how well its predictions match up against actual values.\n",
    "<br>Several error metrics exist to judge the quality of a model and enable us to compare regresssions against other regressions with different parameters.<br>\n",
    "Several kind of regressions do exist, here are some metrics related to the linear regression:\n",
    "\n",
    "- Mean Absolute Error (MAE)\n",
    "- Mean Square Error (MSE)\n",
    "- Root Mean Squared Error (RMSE)\n",
    "\n",
    "\n",
    "### Mean absolute error\n",
    "The __mean absolute error (MAE)__ calculate the residual for every data point, taking only the absolute value of each so that negative and positive residuals do not cancel out, and then take the average of all these residuals.<br>\n",
    "The picture below is a graphical description of the MAE. The green line represents our model’s predictions, and the blue points represent our data.\n",
    "\n",
    "<img src=\"mae.jpg\" alt=\"Mean Absolute Error\" title=\"MAE\" width=400 height=400 />\n",
    "\n",
    "A small MAE (compared to the feature range) suggests the model is great at prediction (0 means that your model is a perfect predictor), while a large MAE suggests that your model may have trouble in certain areas.\n",
    "\n",
    "### Mean square error\n",
    "\n",
    "The __mean square error (MSE)__ is just like the MAE, but squares the difference before summing them all instead of using the absolute value.<br> \n",
    "Since the errors are squared before they are averaged, the MSE gives a relatively high weight to large errors. This means the RMSE should be more useful when large errors are particularly undesirable. <br>\n",
    "__Note__: outliers in the data will contribute to much higher total error in the MSE than they would the MAE.\n",
    "\n",
    "### Root Mean square error\n",
    "\n",
    "The __root mean squared error (RMSE)__ is the square root of the MSE. <br>\n",
    "Because the MSE is squared, its units do not match that of the original output. RMSE converts the error metric back into similar units, making interpretation easier. <br>\n",
    "Since the MSE and RMSE both square the residual, they are similarly affected by outliers. <br>\n",
    "The RMSE is analogous to the standard deviation (MSE to variance) and is a measure of how large your residuals are spread out."
   ]
  },
  {
   "cell_type": "code",
   "execution_count": null,
   "metadata": {},
   "outputs": [],
   "source": []
  },
  {
   "cell_type": "code",
   "execution_count": null,
   "metadata": {},
   "outputs": [],
   "source": []
  }
 ],
 "metadata": {
  "kernelspec": {
   "display_name": "Python 3",
   "language": "python",
   "name": "python3"
  },
  "language_info": {
   "codemirror_mode": {
    "name": "ipython",
    "version": 3
   },
   "file_extension": ".py",
   "mimetype": "text/x-python",
   "name": "python",
   "nbconvert_exporter": "python",
   "pygments_lexer": "ipython3",
   "version": "3.7.1"
  }
 },
 "nbformat": 4,
 "nbformat_minor": 2
}
